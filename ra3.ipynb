{
  "nbformat": 4,
  "nbformat_minor": 0,
  "metadata": {
    "colab": {
      "provenance": [],
      "include_colab_link": true
    },
    "kernelspec": {
      "name": "python3",
      "display_name": "Python 3"
    },
    "language_info": {
      "name": "python"
    }
  },
  "cells": [
    {
      "cell_type": "markdown",
      "metadata": {
        "id": "view-in-github",
        "colab_type": "text"
      },
      "source": [
        "<a href=\"https://colab.research.google.com/github/rvshark/ra1/blob/main/ra3.ipynb\" target=\"_parent\"><img src=\"https://colab.research.google.com/assets/colab-badge.svg\" alt=\"Open In Colab\"/></a>"
      ]
    },
    {
      "cell_type": "markdown",
      "source": [
        "# Avaliação de Recuperação RA2 - 2024-1\n",
        "\n",
        "**Antes de começar, leia estas instruções cuidadosamente.**\n",
        "Esta avaliação é individual. Você poderá consultar qualquer fonte disponível na biblioteca, suas anotações ou na internet. Você não pode consultar outras pessoas mesmo por meio eletrônico.\n",
        "\n",
        "**Crie uma cópia deste caderno agora!** E continue lendo as instruções nesta cópia.\n",
        "\n",
        "**Não existirão prorrogações de prazo de entrega.** Se programe para entregar sua avaliação 5 minutos antes do fim do prazo para evitar imprevistos de última hora.\n",
        "\n",
        "**Trabalhos idênticos entregues por pessoas, diferentes, serão zerados.** Todos os trabalhos poderão ser submetidos a verificação de plágio. Por meio do sistema de instituição ou outro qualquer disponível na internet. Isso significa que respostas copiadas e coladas de sistemas de inteligência artificial que sejam classificados com semelhança maior que 70% também serão zerados. Qualquer diagnóstico indicativo de plágio acima de 70% também irá provocar o zeramento da avaliação.\n",
        "\n",
        "Para que sua avaliação seja considerada **ela deve ser entregues em uma cópia deste caderno de atividades na forma de um link postado no AVA da instituição (Canvas)** apenas no local correspondente a essa entrega na avaliação. Qualquer link enviado em comentários, e-mails, mensagens de Whatsapp, ou qualquer outro meio eletrônico serão ignorados provocando o zeramento desta avaliação.\n",
        "\n",
        "Entrega será realizada com a postagem de um link apontando para um ambiente de execução, no AVA da institução. Neste link o **seu caderno deve permitir ser executado (permissão de leitor)**. Serão aceitos links diretos ao ambiente do Google Colaboratory, ou Links a um caderno do Google Colaboratory que tenha sido **salvo pelo próprio Google Colaboratory** no GitHub. Links para outro ambiente, ou que requeiram qualquer tipo de **download, cliques extras, ou ainda, que requeiram aprovação para acesso, provocarão o zeramento desta avaliação**.\n",
        "\n",
        "Antes de enviar o seu trabalho, teste o compartilhamento em uma aba anônima do seu navegador web preferido.\n",
        "\n",
        "Todos os enunciados devem ser preservados e você deverá inserir uma célula de textos com o **seu nome, IMEDIATATAMENTE APÓS esta célula de texto** onde estão estas instruções.\n",
        "\n",
        "**Qualquer alteração do caderno contendo as suas respostas que seja registrada após a data de postagem provocará a anulação da avaliação**.\n",
        "\n",
        "Você poderá usar, nas suas respostas, só e somente só, a **linguagem Python** limitada ao uso das seguintes bibliotecas: **math, numpy, sympy, matplotlib, ipWidgets e IPython**. O uso de qualquer biblioteca não listada nestas instruções irá provocar o zeramento da questão.\n",
        "\n",
        "**Todo e qualquer gráfico que usar nas suas respostas deverá ser criado usando o Python**.\n",
        "\n",
        "**Todas as questões devem ser respondidas em caixas de texto, usando latex para permitir a renderização com qualidade matemática.** Exceto quando a questão indicar que você pode usar qualquer técnica computacional. Neste caso, as técnicas estarão limitadas as técnicas vistas em sala e as técnicas baseadas no retângulo de Reimann.\n",
        "\n",
        "Não é permitido usar qualquer técnica matemática baseada em cálculo numérico, séries de Taylor. de Leibntz, ou de qualquer outro tipo, ou ainda conhecimento matemático que fuja dos conteúdos apresenados em aula referentes ao estudo da integração.\n",
        "\n",
        "**Você poderá utilizar técnicas numéricas para calcular áreas, ou para encontrar o polinômio referente a um dado conjunto de pontos. Ainda a sim, sua resposta deve ser explicada em uma caixa de textos, usando latex para as equações matemáticas. Ainda assim, estas técnicas estão limitadas as técnicas apresentadas em sala (Reimann, Lagrange)**.\n",
        "\n",
        "**Esta avaliação está limitada a conteúdo de técnicas, regras e conceitos de integração**. Porém, pode ocorrer a necessidade do uso dos conceitos e técnicas de limites, ou derivadas para a solução das questões. Neste caso, o uso de técnicas de derivação está limitado as técnicas apresentadas em sala. Estando exclúidos qualquer método que inclua o uso de séries.\n",
        "\n",
        "Se você encontrar algo errado nesta avaliação anote suas observações na própria questão. Suas observações serão consideradas durante a avaliação e, em caso de pertinência, poderão encejar a anulação do item, ou da questão relacionados ao erro que você encontrou de acordo com os critérios do professor.\n",
        "\n",
        "**ATENÇÃO: TODAS AS QUESTÕES DEVEM SER RESPONDIDAS NA CÉLULA EM BRANCO QUE EXISTE APÓS CADA ENUNCIADO. OS ENUNCIADOS TÊM QUE SER PRESERVADOS.** Se, por algum motivo, ao fazer a cópia deste caderno de questões você perca as células em branco, deve criar uma nova célula após cada enunciado para colocar sua resposta. Você poderá criar quantas células de texto, ou código, que precisar desde que estas células estejam entre a questão que você está respondendo e a próxima questão deste caderno.\n",
        "\n",
        "**Lembrem-se a interpretação faz parte da questão.**\n",
        "\n",
        "**Rubrica de Avaliação**: As questões serão consideradas corretas se, e somente se, apresentarem a resposta correta, o processo algébrico estiver claro, completo e conciso (nenhuma passagem não explicada), os gráficos contiverem todas as informações necessárias ao seu entendimento.\n",
        "\n",
        "## Regras de Integração\n",
        "\n",
        "### Regras de Integração em Português\n",
        "\n",
        "$$\n",
        "\\int k \\, dx = kx + C, \\quad \\text{onde } k \\text{ é uma constante}\n",
        "$$\n",
        "\n",
        "$$\n",
        "\\int x^n \\, dx = \\frac{1}{n + 1} x^{n + 1} + C, \\quad \\text{se } n \\neq -1\n",
        "$$\n",
        "\n",
        "$$\n",
        "\\int \\frac{1}{x} \\, dx = \\ln |x| + C\n",
        "$$\n",
        "\n",
        "$$\n",
        "\\int k f(x) \\, dx = k \\int f(x) \\, dx\n",
        "$$\n",
        "\n",
        "$$\n",
        "\\int \\left( f(x) \\pm g(x) \\right) \\, dx = \\int f(x) \\, dx \\pm \\int g(x) \\, dx\n",
        "$$\n",
        "\n",
        "$$\n",
        "\\int \\sin x \\, dx = -\\cos x + C\n",
        "$$\n",
        "\n",
        "$$\n",
        "\\int \\cos x \\, dx = \\sin x + C\n",
        "$$\n",
        "\n",
        "$$\n",
        "\\int e^x \\, dx = e^x + C\n",
        "$$\n"
      ],
      "metadata": {
        "id": "vgXVkO9FGMwU"
      }
    },
    {
      "cell_type": "markdown",
      "source": [
        "Rogério Vinicius Grzybowski Ferreira"
      ],
      "metadata": {
        "id": "KuZIKVvXGS8D"
      }
    },
    {
      "cell_type": "markdown",
      "source": [
        "# Questão 1 - Vale até 1 ponto\n",
        "Em uma região desértica, pesquisadores estão estudando o crescimento de uma espécie rara de cacto. O crescimento do cacto ao longo do tempo é modelado pela função $y = x^5(2 - x)$, onde $y$ representa a altura do cacto em metros e $x$ representa o tempo em anos desde o início do estudo. Os pesquisadores querem determinar a quantidade total de biomassa acumulada pelo cacto ao longo dos primeiros 2 anos. Sabemos, de estudos anteriores que a biomassa acumulada é proporcional a área sob a curva de crescimento do cacto ao longo do tempo. Determine a área sob a curva da função $y = x^5(2 - x)$ nestes dois anos.\n",
        "\n"
      ],
      "metadata": {
        "id": "vT6WZq9ZKd-r"
      }
    },
    {
      "cell_type": "code",
      "source": [
        "import sympy as sp\n",
        "\n",
        "x = sp.symbols('x')\n",
        "y = x**5 * (2 - x)\n",
        "\n",
        "area = sp.integrate(y, (x, 0, 2))\n",
        "print(\"Área:\", area.evalf())\n"
      ],
      "metadata": {
        "colab": {
          "base_uri": "https://localhost:8080/"
        },
        "id": "TePMO2T2W7py",
        "outputId": "811fb98b-d46d-4268-98d1-ec6da45364cb"
      },
      "execution_count": 5,
      "outputs": [
        {
          "output_type": "stream",
          "name": "stdout",
          "text": [
            "Área: 3.04761904761905\n"
          ]
        }
      ]
    },
    {
      "cell_type": "markdown",
      "source": [
        "# Questão 2 - Vale até 1 ponto\n",
        "Usando o Python (matplotlib, sympy e numpy) trace o gráfico e calcule a área sob a função $F9x) = x^5(2 - x)$ para $0 \\leq x \\leq 2$. Não esqueça de anotar os pontos, hachurar a área calculada e de imprimir o valor da área encontrada."
      ],
      "metadata": {
        "id": "aTU7tNRaMY4w"
      }
    },
    {
      "cell_type": "markdown",
      "source": [
        "# Questão 3 - Vale até 1 ponto\n",
        "\n",
        "A aceleração de um objeto é dada por $a(t) = \\cos(\\pi t)$, e sua velocidade no tempo $t = 0$ é $\\frac{1}{2\\pi}$. Usando apenas álgebra, encontre a distância total percorrida por este objeto nos primeiros $1,5$ segundos deste movimento. Dica: antes de calcular qualquer coisa verifique cuidadosamente a equação da aceleração. Não é necessário, mas talvez seja interessante, traçar um gráfico da aceleração e outro da velocidade para entender o problema. É necessário entender o movimento do objeto para saber quanto espaço ele percorreu."
      ],
      "metadata": {
        "id": "-iPLzLPUNge9"
      }
    },
    {
      "cell_type": "markdown",
      "source": [
        "# Questão 4 - Vale até 1 ponto\n",
        "\n",
        "Encontre a área limitada por $f(x) = -x^2 + 4x + 1$, $g(x) = -x^3 + 7x^2 - 10x + 3$ para  $1\\leq x \\leq 2$. Nesta questão você pode usar álgebra, ou Python, considerando as limitações de bibliotecas definidas para esta avaliação.  \n"
      ],
      "metadata": {
        "id": "CMdRv02PAz38"
      }
    },
    {
      "cell_type": "code",
      "source": [
        "import sympy as sp\n",
        "\n",
        "x = sp.symbols('x')\n",
        "f = -x**2 + 4*x + 1\n",
        "g = -x**3 + 7*x**2 - 10*x + 3\n",
        "\n",
        "difference_function = f - g\n",
        "\n",
        "area = sp.integrate(difference_function, (x, 1, 2))\n",
        "print(\"Área:\", area.evalf())\n"
      ],
      "metadata": {
        "colab": {
          "base_uri": "https://localhost:8080/"
        },
        "id": "g0QBLlsbXcpw",
        "outputId": "7b16afc2-aa46-4db7-97bf-076feb563eee"
      },
      "execution_count": 7,
      "outputs": [
        {
          "output_type": "stream",
          "name": "stdout",
          "text": [
            "Área: 4.08333333333333\n"
          ]
        }
      ]
    },
    {
      "cell_type": "markdown",
      "source": [
        "# Questão 5 - Vale até 1 ponto\n",
        "\n",
        "Use o método dos discos para determinar o volume do sólido obtido pela rotação da região delimitada por $y = \\sqrt{x}$, $y = 3$ e o próprio eixo $y$ em torno do eixo $y$.\n"
      ],
      "metadata": {
        "id": "53zwpYIEF4fI"
      }
    },
    {
      "cell_type": "markdown",
      "source": [
        "a. Integracao do volume de todos os discos de 0 a 3:\n",
        "Volume do disco = $\\pi y^2 dy$\n",
        "\n",
        "$$ V = \\int_{0}^{3}\\pi y^2dy\\, $$\n",
        "$$ V = \\pi \\int_{0}^{3} y^2dy $$\n",
        "$$ \\pi[\\frac{1}{3}y^3]_{0}^{3} $$\n",
        "$$ \\pi(\\frac{1}{3}(3)^3 - \\frac{1}{3}(0)^3) $$\n",
        "$$ \\pi(\\frac{1}{3}.27) = 9\\pi$$\n"
      ],
      "metadata": {
        "id": "9aMRkRR6T14b"
      }
    },
    {
      "cell_type": "markdown",
      "source": [
        "# Questão 6 - Vale até 3 pontos\n",
        "Para os problemas a e b, determine a média, usando a integração, para a funções nos intervalos especificados.\n",
        "\n",
        "a. $f(x) = 8x - 3 + 5e^{2-x}$ no intervalo $[0, 2]$ - Vale 1 ponto\n",
        "\n",
        "b. Considere que a posição de um objeto em movimento ao longo do eixo $ x $ é descrita pela função de deslocamento $ x(t) = t^3 - 6t^2 + 9t + 1 $, onde $ x(t) $ está em metros e $t$ está em segundos. Determine a velocidade média do objeto no intervalo de tempo de $ t = 1$ segundo até $t = 4$ segundos. - Vale 2 pontos"
      ],
      "metadata": {
        "id": "dr5lNibpLKmh"
      }
    },
    {
      "cell_type": "markdown",
      "source": [
        "a. $$ \\frac{1}{2-0} \\int_{0}^{2} (8x - 3 + 5e^{2-x}) \\, =$$\n",
        "\n",
        "$$ \\frac{1}{2} \\int_{0}^{2} 8x dx\\, - \\int_{0}^{2} 3dx\\, + \\int_{0}^{2} 5e^{2-x}\\,$$\n",
        "\n",
        "Primeira integral:\n",
        "$$ \\int_{0}^{2} 8xdx\\, = [4x^2]_{0}^{2}$$\n",
        "\n",
        "Resolvendo:\n",
        "$$ 4(2)^2 - 4(0)^2 = 16 $$\n",
        "\n",
        "Segunda Integral:\n",
        "$$ \\int_{0}^{2} 3dx \\, = [3x]_{0}^{2}$$\n",
        "\n",
        "Resolvendo:\n",
        "$$ 3(2) - 3(0) = 6 $$\n",
        "\n",
        "Terceira Integral:\n",
        "$$ \\int_{0}^{2} 5e^{2-x} =$$\n",
        "\n",
        "Usando $u = 2 - x$ e $du = - dx$:\n",
        "$$ - \\int_{2}^{0} 5e^udu = [5e^u]_{2}^{0}$$\n",
        "\n",
        "Resolvendo:\n",
        "$$ -(5e^0 - 5e^2) = -(5-5e^2)$$\n",
        "\n",
        "Juntando na fórmula:\n",
        "$$ \\frac{1}{2}[16 - 6 - (5 + 5e^2)] = $$\n",
        "$$ \\frac{1}{2}[16 - 6 - 5 - 5e^2] = $$\n",
        "$$ \\frac{1}{2}.5[e^2 + 5] = $$\n",
        "$$ \\frac{5}{2}[e^2+1] $$\n",
        "\n",
        "b. $ x(t) = t^3 - 6t^2 + 9t + 1 $\n",
        "\n",
        "Com $t = 1$:\n",
        "$$ x(1) = 1^3 - 6.1^2 + 9.1 + 1$$\n",
        "$$ x(1) = 5 $$\n",
        "\n",
        "Com $t = 4$:\n",
        "$$ x(4) = 4^3 - 6.4^2 + 9.4 + 1$$\n",
        "$$ x(4) = 64 - 96 + 36 + 1$$\n",
        "$$ x(4) = 5 $$\n",
        "\n",
        "Calculando a funcao velocidade:\n",
        "$$ v(t) = x(t)' $$\n",
        "$$ v(t) = 3t^2 -12t + 9$$\n",
        "\n",
        "Integrando a funcao velocidade:\n",
        "\n",
        "$$ \\frac{1}{4-1} \\int_{1}^{4} (3t^2 - 12t + 9) dt \\, = $$\n",
        "$$ \\frac{1}{3} [t^3-6t^2+9t]_{1}^{4} = $$\n",
        "$$ \\frac{1}{3} [(4^3 - 6(4^2) + 9(4)) - (1^3 - 6(1^2) + 9(1)]$$\n",
        "$$ \\frac{1}{3} [(64-96+36) - (1-6+9)]$$\n",
        "$$ \\frac{1}{3}. 4 = \\frac{4}{3}m/s$$"
      ],
      "metadata": {
        "id": "tcpkOgxOKE70"
      }
    },
    {
      "cell_type": "markdown",
      "source": [
        "# Questão 7 - Vale até 2 pontos\n",
        "\n",
        "Nos ítens a, b a seguir, encontre a família de antiderivadas das seguintes funções:\n",
        "\n",
        "a. $f(x) = 4x^3 - 6x^2 + 2x - 5 $.\n",
        "\n",
        "b. $f(x) = \\frac{1}{x} + e^x$ para todo $x\\neq 0$.\n",
        "\n",
        "\n"
      ],
      "metadata": {
        "id": "j_fo89ayUveW"
      }
    },
    {
      "cell_type": "markdown",
      "source": [
        "a. $$ \\int (4x^3-6x^2+2x-5) dx \\, = $$\n",
        "\n",
        "Integrando:\n",
        "$$ \\frac{4}{4}x^4 - \\frac{6}{3}x^3 + \\frac{2}{2}x^2-5x + C = $$\n",
        "\n",
        "Simplificando:\n",
        "$$ x^4 - 2x^3 + x^2 - 5x + C$$\n",
        "\n",
        "b. $$ \\int (\\frac{1}{x} + e^x) dx \\,$$\n",
        "\n",
        "Resolvendo a fracão $\\frac{1}{x}$:\n",
        "$$ \\int \\frac{1}{x}dx = ln|x| + C$$\n",
        "\n",
        "Resolvendo o termo $e^x$:\n",
        "$$ \\int e^xdx\\, = e^x + C$$\n",
        "\n",
        "Logo a familia de antiderivadas é:\n",
        "$$ ln|x| + e^x + C $$\n"
      ],
      "metadata": {
        "id": "wkCnIQLPGW52"
      }
    }
  ]
}