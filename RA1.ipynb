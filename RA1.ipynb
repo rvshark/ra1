{
  "nbformat": 4,
  "nbformat_minor": 0,
  "metadata": {
    "colab": {
      "provenance": [],
      "toc_visible": true,
      "include_colab_link": true
    },
    "kernelspec": {
      "name": "python3",
      "display_name": "Python 3"
    },
    "language_info": {
      "name": "python"
    }
  },
  "cells": [
    {
      "cell_type": "markdown",
      "metadata": {
        "id": "view-in-github",
        "colab_type": "text"
      },
      "source": [
        "<a href=\"https://colab.research.google.com/github/rvshark/ra1/blob/main/RA1.ipynb\" target=\"_parent\"><img src=\"https://colab.research.google.com/assets/colab-badge.svg\" alt=\"Open In Colab\"/></a>"
      ]
    },
    {
      "cell_type": "markdown",
      "source": [
        "# Avaliação em INDIVIDUAL RA1 - 2024-1\n",
        "\n",
        "**Antes de começar, leia estas instruções cuidadosamente.**\n",
        "Esta avaliação é individual. Você poderá consultar qualquer fonte disponível na biblioteca, suas anotações ou na internet. Mas, não poderá consultar outras pessoas.\n",
        "\n",
        "Não existirão prorrogações de prazo de entrega.\n",
        "\n",
        "Trabalhos idênticos entregues por pessoas, diferentes, serão anulados.\n",
        "\n",
        "Todos os trabalhos serão entregues em uma cópia deste caderno de atividades na forma de um link postado no AVA da instituição (Canvas). Todos os enunciados devem ser preservados e você deverá inserir uma célula de textos com o **seu nome**, logo após esta célula de texto de instruções.\n",
        "\n",
        "Qualquer alteração do caderno contendo as suas respostas que seja registrada após a data de postagem provocará a anulação da avaliação.\n",
        "\n",
        "Você poderá usar, neste notebook, apenas a linguagem python limitada ao uso das seguintes bibliotecas: numpy, sympy, matplotlib, ipWidgets e IPython. Todo e qualquer gráfico deverá ser criado usando o Python.\n",
        "\n",
        "Entrega será realizada com a postagem de um link para um ambiente de execução, no AVA da institução. Neste link o seu caderno deve permitir ser executado (permissão de leitor). Serão aceitos links diretos ao ambiente do Google Colaboratory, ou Links a um caderno do Google Colaboratory que tenha sido salvo pelo próprio Google Colaboratory no GitHub. Links para outro ambiente, ou que requeiram qualquer tipo de download, cliques extras, ou ainda, que requeiram aprovação para acesso, provocarão a nota zero na avaliação.\n",
        "\n",
        "Para salvar a avaliação no GitHub, clique no menu _Arquivo_ e escolha a opção _Salvar uma Cópia no Github_. Para que isso funcione você precisa ter um repositório no Github. O link que você irá compartilhar será a url da página que o próprio Gooble Colab irá abrir depois de salvar suas respostas no Github.\n",
        "\n",
        "Se você encontrar algo errado nesta avaliação simplesmente anote suas observações na própria questão. Suas observações serão consideradas durante a avaliação e, em caso de pertinência, poderão encejar a anulação do item, ou da questão, a critério do professor.\n",
        "\n",
        "Não é permitido usar qualquer técnica matemática baseada em derivação, ou que fuja dos conteúdos apresenados em aula referente ao estudo de limites. Você pode usar a fórmula das diferenças finitas e todas as regras e identidades algébricas que sejam pertinentes ao cálculo de limites.\n",
        "\n",
        "**Lembrem-se a interpretação faz parte da questão.**"
      ],
      "metadata": {
        "id": "IYWLM47FgvAt"
      }
    },
    {
      "cell_type": "markdown",
      "source": [
        "## Questões\n",
        "\n",
        "Usando apenas álgebra encontre o limites solicitados a seguir e faça uma análise do resultado encontrados. Para fazer a análise você pode usar as ferramentas que desejar, desde que seja possível verificar a validade das suas afirmações usando apenas este caderno de avaliação.\n",
        "\n",
        "Lembre-se você deve usar notação matemática na sua resposta e todo o desenvolvimento deve estar explicitado (passo a passo). O que implica na obrigatoriedade do uso de Latex neste caderno de avaliação.\n",
        "\n",
        "Observe que o cálculo do valor do limite, usando uma calculadora, site, ou ferramenta qualquer, por si só não pode ser usado como argumento na sua análise. Isso quer dizer que justificativas como o limite é $w$ porque qualquer disse que era esse valor ou o limte é $w$ porque eu calculei usando o sympy, não serão aceitas.\n",
        "\n",
        "1. **Primeira Questão:**\n",
        "\n",
        "   $$\\lim_{{x \\to 0}} \\frac{1 - \\cos(x)}{x^2}$$\n",
        "\n",
        "2. **Segunda Questão:**\n",
        "\n",
        "   $$\\lim_{{x \\to 1}} \\frac{\\sqrt{x + 8} - 3}{x^2 - 1}$$\n",
        "\n",
        "3. **Terceira Questão:**\n",
        "  \n",
        "  $$\\lim_{h \\to 0} \\frac{(2 + h)^3 - 8}{h}$$\n",
        "\n",
        "4. **Quarta Questão:**\n",
        "  \n",
        "  $$\\lim_{t \\to 0} \\left( \\frac{1}{t\\sqrt{t + 1}} - \\frac{1}{t} \\right)$$\n",
        "\n",
        "**Rúbrica de avaliação**: cada limite corretamente determinado com a algebra demonstrada em notação matemática 1 ponto; cada análise consistente 1,5 pontos. Total 2.5 pontos por questão implicando em, no máximo 10 pontos."
      ],
      "metadata": {
        "id": "Hffk6Rtmhaga"
      }
    },
    {
      "cell_type": "markdown",
      "source": [
        "#**Primeira Questão:**\n",
        "\n",
        "$$\\lim_{{x \\to 0}} \\frac{1 - \\cos(x)}{x^2}$$\n",
        "\n",
        "$$\\lim_{{x \\to 0}} \\frac{1 - \\cos(0)}{0^2}$$\n",
        "\n",
        "$$\\lim_{{x \\to 0}} \\frac{1 - 1}{0^2}$$\n",
        "\n",
        "$$\\lim_{{x \\to 0}} \\frac{0}{0}$$\n",
        "\n",
        "$$\\frac{0}{0} = Indeterminacão$$\n",
        "\n",
        "Manipulacão Algébrica:\n",
        "\n",
        "$$\\lim_{{x \\to 0}} \\frac{1 - \\cos(x)}{x^2}$$\n",
        "\n",
        "$$\\frac{1 - \\cos(x)}{x^2}$$\n",
        "\n",
        "Rogério Vinicius Grzybowski Ferreira"
      ],
      "metadata": {
        "id": "DhiyQsopuMHj"
      }
    },
    {
      "cell_type": "markdown",
      "source": [
        "#**Segunda Questão:**\n",
        "\n",
        "Substituicão:\n",
        "\n",
        "$$\\lim_{{x \\to 1}} \\frac{\\sqrt{x + 8} - 3}{x^2 - 1}$$\n",
        "\n",
        "$$\\lim_{{x \\to 1}} \\frac{\\sqrt{9} - 3}{1 - 1}$$\n",
        "\n",
        "$$\\lim_{{x \\to 1}} \\frac{3 - 3}{1 - 1}$$\n",
        "\n",
        "$$\\lim_{{x \\to 1}} \\frac{0}{0}$$\n",
        "\n",
        "$$\\frac{0}{0} = Indeterminacão$$\n",
        "\n",
        "**Processo de Radicalizacão:**\n",
        "\n",
        "$$\\lim_{{x \\to 1}} \\frac{\\sqrt{x + 8} - 3}{x^2 - 1} \\cdot \\frac{\\sqrt{x + 8} + 3}{\\sqrt{x + 8}  + 3}$$\n",
        "\n",
        "Simplificacão da raiz e $-3\\cdot3$\n",
        "\n",
        "$$\\lim_{{x \\to 1}} \\frac{x + 8 - 9}{{(x^2 - 1)\\cdot(\\sqrt{x + 8} + 3)}}$$\n",
        "\n",
        "Fatoracão do termo $(x^2-1)$\n",
        "\n",
        "$$\\lim_{{x \\to 1}} \\frac{x + 8 - 9}{{(x-1)\\cdot(x+1)\\cdot(\\sqrt{x + 8} + 3)}}$$\n",
        "\n",
        "Resolver o numerador\n",
        "\n",
        "$$\\lim_{{x \\to 1}} \\frac{x - 1}{{(x-1)\\cdot(x+1)\\cdot(\\sqrt{x + 8} + 3)}}$$\n",
        "\n",
        "Simplificar termo comum $(x-1)$\n",
        "\n",
        "$$\\lim_{{x \\to 1}} \\frac{1}{{(x-1)\\cdot(\\sqrt{x + 8} + 3)}}$$\n",
        "\n",
        "**Cálculo do limite:**\n",
        "\n",
        "$$\\lim_{{x \\to 1}} \\frac{1}{{(x+1)\\cdot(\\sqrt{x + 8} + 3)}}$$\n",
        "\n",
        "$$\\lim_{{x \\to 1}} \\frac{1}{{(1+1)\\cdot(\\sqrt{1 + 8} + 3)}}$$\n",
        "\n",
        "$$\\lim_{{x \\to 1}} \\frac{1}{{2\\cdot(3 + 3)}}$$\n",
        "\n",
        "$$\\lim_{{x \\to 1}} \\frac{1}{{(2)\\cdot(6)}}$$\n",
        "\n",
        "$$\\lim_{{x \\to 1}} \\frac{\\sqrt{x + 8} - 3}{x^2 - 1} = \\frac{1}{12}$$\n",
        "\n",
        "Rogério Vinicius Grzybowski Ferreira"
      ],
      "metadata": {
        "id": "Ux10x0k_z3uh"
      }
    },
    {
      "cell_type": "markdown",
      "source": [
        "#**Terceira Questão:**\n",
        "\n",
        "Substituicão:\n",
        "\n",
        "$$\\lim_{h \\to 0} \\frac{(2 + h)^3 - 8}{h}$$\n",
        "\n",
        "$$\\lim_{h \\to 0} \\frac{(2 + 0)^3 - 8}{0}$$\n",
        "\n",
        "$$\\lim_{h \\to 0} \\frac{8 - 8}{0}$$\n",
        "\n",
        "$$\\lim_{h \\to 0} \\frac{0}{0}$$\n",
        "\n",
        "$$\\frac {0}{0} = Indeterminacão$$\n",
        "\n",
        "**Manipulacao Algébrica:**\n",
        "\n",
        "$$\\lim_{h \\to 0} \\frac{(2 + h)^3 - 8}{h}$$\n",
        "\n",
        "Propriedade $(a+b)^3 = a^3 + 3a^2b + 3ab^2 + b^3$\n",
        "\n",
        "$$\\lim_{h \\to 0} \\frac{8 + 12h + 6h^2 + h^3 - 8}{h}$$\n",
        "\n",
        "$$\\lim_{h \\to 0} \\frac{12h + 6h^2 + h^3}{h}$$\n",
        "\n",
        "$$\\lim_{h \\to 0} \\frac{h \\cdot(12 + 6h + h^2)}{h}$$\n",
        "\n",
        "$$\\lim_{h \\to 0} \\frac{h \\cdot(12 + 6h + h^2)}{h}$$\n",
        "\n",
        "$$\\lim_{h \\to 0} 12 + 6h + h^2$$\n",
        "\n",
        "Cálculo do Limite:\n",
        "\n",
        "$$\\lim_{h \\to 0} 12 + 6\\cdot0 + 0^2$$\n",
        "\n",
        "$$\\lim_{h \\to 0} 12 + 6\\cdot0 + 0^2 = 12$$\n",
        "\n",
        "Rogério Vinicius Grzybowski Ferreira\n",
        "\n",
        "\n"
      ],
      "metadata": {
        "id": "Ml8zSHdW21hi"
      }
    },
    {
      "cell_type": "markdown",
      "source": [
        "#**Quarta Questão:**\n",
        "\n",
        "Substituicão:\n",
        "\n",
        "$$\\lim_{t \\to 0} \\left( \\frac{1}{t\\sqrt{t + 1}} - \\frac{1}{t} \\right)$$\n",
        "\n",
        "$$\\lim_{t \\to 0} \\left( \\frac{1}{0\\sqrt{0 + 1}} - \\frac{1}{0} \\right)$$\n",
        "\n",
        "$$\\lim_{t \\to 0} \\left( \\frac{1}{0} - \\frac{1}{0} \\right)$$\n",
        "\n",
        "Funcão $\\left( \\frac{1}{t\\sqrt{t + 1}} - \\frac{1}{t} \\right)$ indefinida para 0.\n",
        "\n",
        "Cálculo dos limites laterais utilizando análise gráfica:\n",
        "\n",
        "$$\\lim_{t \\to 0^-} \\left( \\frac{1}{t\\sqrt{t + 1}} - \\frac{1}{t} \\right)$$\n",
        "\n",
        "$$\\lim_{t \\to 0^+} \\left( \\frac{1}{t\\sqrt{t + 1}} - \\frac{1}{t} \\right)$$\n",
        "\n",
        "Rogério Vinicius Grzybowski Ferreira"
      ],
      "metadata": {
        "id": "7V0nsbk75VX2"
      }
    },
    {
      "cell_type": "code",
      "source": [
        "# Rogério Vinicius Grzybowski Ferreira\n",
        "import numpy as np\n",
        "import matplotlib.pyplot as plt\n",
        "\n",
        "def f(t):\n",
        "    return 1/(t * np.sqrt(t + 1)) - 1/t\n",
        "\n",
        "t_values = np.linspace(0.01, 10, 1000)\n",
        "\n",
        "f_values = f(t_values)\n",
        "\n",
        "plt.figure(figsize=(8, 6))\n",
        "plt.plot(t_values, f_values, label=r'$\\frac{1}{t\\sqrt{t + 1}} - \\frac{1}{t}$', color='blue')\n",
        "plt.title('Gráfico da função f(t)')\n",
        "plt.xlabel('t')\n",
        "plt.ylabel('f(t)')\n",
        "plt.grid(True)\n",
        "plt.legend()\n",
        "plt.axhline(0, color='black',linewidth=0.5)\n",
        "plt.axvline(0, color='black',linewidth=0.5)\n",
        "plt.show()\n"
      ],
      "metadata": {
        "colab": {
          "base_uri": "https://localhost:8080/",
          "height": 565
        },
        "id": "qUjpO-ru7Tnq",
        "outputId": "382b80a9-e414-418c-fc3b-b1699c91a003"
      },
      "execution_count": null,
      "outputs": [
        {
          "output_type": "display_data",
          "data": {
            "text/plain": [
              "<Figure size 800x600 with 1 Axes>"
            ],
            "image/png": "[encoded data removed]"
          },
          "metadata": {}
        }
      ]
    },
    {
      "cell_type": "markdown",
      "source": [
        "Partindo da análise do gráfico acima ao se aproximar do valor 0, tanto pela direita quanto pela esquerda, observamos que conforme $t$ se aproxima de 0, ele tende ao valor $-0.5$ ou $-\\frac{1}{2}$."
      ],
      "metadata": {
        "id": "e045j-178WOS"
      }
    }
  ]
}